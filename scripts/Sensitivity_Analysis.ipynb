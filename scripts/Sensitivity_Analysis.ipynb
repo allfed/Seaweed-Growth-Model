{
 "cells": [
  {
   "attachments": {},
   "cell_type": "markdown",
   "metadata": {},
   "source": [
    "# Sensitivity Analysis\n",
    "This script analysis how sensitive the overall seaweed growth model is to changes in the values for input parameters. "
   ]
  },
  {
   "cell_type": "code",
   "execution_count": 5,
   "metadata": {},
   "outputs": [],
   "source": [
    "# import the seaweed growth model equations\n",
    "from src.model.seaweed_growth import (\n",
    "    growth_factor_combination_single_value,\n",
    "    illumination_single_value,\n",
    "    nitrate_subfactor,\n",
    "    phosphate_subfactor,\n",
    "    ammonium_subfactor,\n",
    "    salinity_single_value,\n",
    "    temperature_single_value,\n",
    ")\n",
    "\n",
    "# Define the complete growth model\n",
    "def growth_model(nitrate, phosphate, ammonium, salinity, temperature, illumination):\n",
    "    \"\"\"\n",
    "    Calculates the growth factor for a single value\n",
    "    Arguments:\n",
    "        nitrate: the nitrate concentration in mmol/m³\n",
    "        phosphate: the phosphate concentration in mmol/m³\n",
    "        ammonium: the ammonium concentration in mmol/m³\n",
    "        salinity: the salinity in PSU\n",
    "        temperature: the temperature in °C\n",
    "        illumination: the illumination in µmol/m²/s\n",
    "    Returns:\n",
    "        The growth factor as a float\n",
    "    \"\"\"\n",
    "    # Calculate the subfactors\n",
    "    nutrient_factor_value = min(\n",
    "        nitrate_subfactor(nitrate), \n",
    "        phosphate_subfactor(phosphate), \n",
    "        ammonium_subfactor(ammonium)\n",
    "    )\n",
    "    salinity_factor_value = salinity_single_value(salinity)\n",
    "    temperature_factor_value = temperature_single_value(temperature)\n",
    "    illumination_factor_value = illumination_single_value(illumination)\n",
    "    # Calculate the growth factor\n",
    "    growth_factor = growth_factor_combination_single_value(\n",
    "        nutrient_factor_value,\n",
    "        salinity_factor_value,\n",
    "        temperature_factor_value,\n",
    "        illumination_factor_value\n",
    "    )\n",
    "    return growth_factor"
   ]
  },
  {
   "attachments": {},
   "cell_type": "markdown",
   "metadata": {},
   "source": [
    "To test the model, we simply call it with random values and see how this influences the results. The ranges of the values are based on how far those values differ in nature. To evaluate the sensitivity we can use the [Sobol method](https://www.sciencedirect.com/science/article/abs/pii/S0378475400002706). "
   ]
  },
  {
   "cell_type": "code",
   "execution_count": 6,
   "metadata": {},
   "outputs": [
    {
     "name": "stderr",
     "output_type": "stream",
     "text": [
      "/tmp/ipykernel_21250/2442325824.py:14: DeprecationWarning: `salib.sample.saltelli` will be removed in SALib 1.5. Please use `salib.sample.sobol`\n",
      "  param_values = saltelli.sample(problem, 100000)\n",
      "/home/florian/local/anaconda3/envs/seaweed-growth-model/lib/python3.10/site-packages/SALib/sample/saltelli.py:109: UserWarning: \n",
      "        Convergence properties of the Sobol' sequence is only valid if\n",
      "        `N` (100000) is equal to `2^n`.\n",
      "        \n",
      "  warnings.warn(msg)\n"
     ]
    },
    {
     "name": "stdout",
     "output_type": "stream",
     "text": [
      "                    ST   ST_conf\n",
      "nitrate       0.080335  0.003769\n",
      "phosphate     0.020507  0.002061\n",
      "ammonium      0.061670  0.003633\n",
      "salinity      0.599367  0.014746\n",
      "temperature   0.529196  0.013822\n",
      "illumination  0.327233  0.008926\n",
      "                    S1   S1_conf\n",
      "nitrate       0.014176  0.002019\n",
      "phosphate     0.003685  0.000872\n",
      "ammonium      0.011330  0.001976\n",
      "salinity      0.223307  0.007600\n",
      "temperature   0.176846  0.007130\n",
      "illumination  0.082254  0.005255\n",
      "                                   S2   S2_conf\n",
      "(nitrate, phosphate)         0.001795  0.003733\n",
      "(nitrate, ammonium)          0.003253  0.003766\n",
      "(nitrate, salinity)          0.014270  0.004585\n",
      "(nitrate, temperature)       0.013883  0.004062\n",
      "(nitrate, illumination)      0.006817  0.004325\n",
      "(phosphate, ammonium)       -0.000461  0.001412\n",
      "(phosphate, salinity)        0.002085  0.001725\n",
      "(phosphate, temperature)     0.001789  0.001774\n",
      "(phosphate, illumination)    0.000777  0.001718\n",
      "(ammonium, salinity)         0.009929  0.003486\n",
      "(ammonium, temperature)      0.007608  0.003413\n",
      "(ammonium, illumination)     0.003825  0.003469\n",
      "(salinity, temperature)      0.164809  0.014412\n",
      "(salinity, illumination)     0.080143  0.012768\n",
      "(temperature, illumination)  0.065269  0.012549\n"
     ]
    }
   ],
   "source": [
    "from SALib.sample import saltelli\n",
    "from SALib.analyze import sobol\n",
    "from SALib.test_functions import Ishigami\n",
    "import numpy as np\n",
    "\n",
    "# Define the model inputs\n",
    "problem = {\n",
    "    'num_vars': 6,\n",
    "    'names': ['nitrate', 'phosphate', 'ammonium', 'salinity', 'temperature', 'illumination'],\n",
    "    'bounds': [[0, 2.5], [0, 2.5], [0, 2.5], [0, 60], [5, 40], [0, 600]]\n",
    "}\n",
    "\n",
    "# Generate the samples\n",
    "param_values = saltelli.sample(problem, 100000)\n",
    "\n",
    "# Run the model\n",
    "growth_rate = np.array([growth_model(*X) for X in param_values])\n",
    "\n",
    "# Perform the sensitivity analysis\n",
    "Si = sobol.analyze(problem, growth_rate, print_to_console=True)\n"
   ]
  },
  {
   "cell_type": "code",
   "execution_count": 8,
   "metadata": {},
   "outputs": [
    {
     "data": {
      "image/png": "[encoded data removed]",
      "text/plain": [
       "<Figure size 1500x600 with 1 Axes>"
      ]
     },
     "metadata": {
      "needs_background": "light"
     },
     "output_type": "display_data"
    }
   ],
   "source": [
    "import pandas as pd\n",
    "import matplotlib.pyplot as plt\n",
    "plt.style.use(\n",
    "    \"https://raw.githubusercontent.com/allfed/ALLFED-matplotlib-style-sheet/main/ALLFED.mplstyle\"\n",
    ")\n",
    "\n",
    "# Only use ST for the sensitivity analysis\n",
    "df_Si = pd.DataFrame(Si['ST'], index=problem['names'], columns=['ST'])\n",
    "ax = df_Si.plot.bar(legend=False)\n",
    "ax.set_ylabel(\"Sensitivity index\")\n",
    "ax.xaxis.grid(False)"
   ]
  },
  {
   "attachments": {},
   "cell_type": "markdown",
   "metadata": {},
   "source": [
    "Definitions:\n",
    "\n",
    "* S1: The first-order (main effect) Sobol indices. These indicate the sensitivity of the model's output to changes in each input parameter, taking into account only the main effects of the parameters (i.e., ignoring interactions between parameters).\n",
    "* S2: The total-order Sobol indices. These indicate the sensitivity of the model's output to changes in each input parameter, taking into account both the main effects and the interactions between parameters.\n",
    "* ST: The total Sobol indices. These indicate the sensitivity of the model's output to changes in each input parameter, taking into account both the main effects and the interactions between parameters, as well as the contributions of all other parameters.\n",
    "* STi: The individual Sobol indices. These indicate the sensitivity of the model's output to changes in each input parameter, taking into account both the main effects and the interactions between parameters, as well as the contributions of all other parameters, with the contribution of each parameter removed."
   ]
  },
  {
   "attachments": {},
   "cell_type": "markdown",
   "metadata": {},
   "source": [
    "So, we can see that salinity is the most sensitive parameter, followed by temperature and illumination. However, all the nutrients are relative insensitive. "
   ]
  }
 ],
 "metadata": {
  "kernelspec": {
   "display_name": "seaweed-growth-model",
   "language": "python",
   "name": "python3"
  },
  "language_info": {
   "codemirror_mode": {
    "name": "ipython",
    "version": 3
   },
   "file_extension": ".py",
   "mimetype": "text/x-python",
   "name": "python",
   "nbconvert_exporter": "python",
   "pygments_lexer": "ipython3",
   "version": "3.10.8"
  },
  "orig_nbformat": 4,
  "vscode": {
   "interpreter": {
    "hash": "77892e2897ab48d4f924707d9b0416a866ff133812ce8b45e0bccce7af49a9d9"
   }
  }
 },
 "nbformat": 4,
 "nbformat_minor": 2
}
